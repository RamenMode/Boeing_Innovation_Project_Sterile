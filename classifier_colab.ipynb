{
  "cells": [
    {
      "cell_type": "markdown",
      "metadata": {
        "colab_type": "text",
        "id": "view-in-github"
      },
      "source": [
        "<a href=\"https://colab.research.google.com/github/AnthonyTsiantis/Boeing-Innovation-Group1/blob/main/classifier_colab.ipynb\" target=\"_parent\"><img src=\"https://colab.research.google.com/assets/colab-badge.svg\" alt=\"Open In Colab\"/></a>"
      ]
    },
    {
      "cell_type": "code",
      "execution_count": null,
      "metadata": {
        "id": "hQtDkmCT0kqx"
      },
      "outputs": [],
      "source": [
        "import sklearn\n",
        "import sklearn.model_selection\n",
        "import sklearn.svm\n",
        "import tensorflow as tf\n",
        "import tensorflow_hub as hub\n",
        "import numpy as np\n",
        "import tqdm\n",
        "import os\n",
        "import pandas as pd\n",
        "import joblib"
      ]
    },
    {
      "cell_type": "markdown",
      "metadata": {
        "id": "feCHprU7cF4g"
      },
      "source": [
        "# Load Data (files need to be uploaded to colab first)"
      ]
    },
    {
      "cell_type": "code",
      "execution_count": null,
      "metadata": {
        "colab": {
          "base_uri": "https://localhost:8080/"
        },
        "id": "2Icgkdm21_6t",
        "outputId": "ef019a7a-82e8-42c8-aa88-b38f0854be52"
      },
      "outputs": [],
      "source": [
        "def get_df(datapath):\n",
        "      frames = []\n",
        "      df = pd.read_csv(f'{datapath}/Notre Dame Project Data - 1 of 10.csv', header=None)\n",
        "      headers = df.iloc[0].tolist()\n",
        "      df = df.drop(0)\n",
        "      for file in [f'{datapath}/Notre Dame Project Data - {i} of 10.csv' for i in range(2, 11)]:\n",
        "          df = pd.read_csv(file, header=None)\n",
        "          df = df.drop(index=0)\n",
        "          frames.append(df)\n",
        "      dataset = pd.concat(frames)\n",
        "      dataset.columns = headers\n",
        "      return dataset\n",
        "\n",
        "dataset = get_df('.')\n",
        "\n",
        "# wuc seems to be like an ID number\n",
        "print(dataset)"
      ]
    },
    {
      "cell_type": "markdown",
      "metadata": {
        "id": "BsCraO4GcOTW"
      },
      "source": [
        "# Text Embedding"
      ]
    },
    {
      "cell_type": "code",
      "execution_count": null,
      "metadata": {
        "colab": {
          "base_uri": "https://localhost:8080/"
        },
        "id": "56ldZOGT1xyv",
        "outputId": "42f6216e-f808-42e9-e74d-b482f103abef"
      },
      "outputs": [],
      "source": [
        "module_url = \"https://tfhub.dev/google/universal-sentence-encoder/4\"\n",
        "model = hub.load(module_url)\n",
        "print (\"module %s loaded\" % module_url)"
      ]
    },
    {
      "cell_type": "code",
      "execution_count": null,
      "metadata": {
        "id": "_E0kGhKz16DF"
      },
      "outputs": [],
      "source": [
        "em_corr_action = model(dataset['corr_action'])\n",
        "em_descrep_narrative = model(dataset['descrep_narrative'])\n",
        "em_system_reason_desc = model(dataset['system_reason_desc'])"
      ]
    },
    {
      "cell_type": "code",
      "execution_count": null,
      "metadata": {
        "id": "3EYj9MNEUDQR"
      },
      "outputs": [],
      "source": [
        "# compile embedded vectors into data frame\n",
        "em_data = pd.DataFrame()\n",
        "\n",
        "em_data['corr_action'] = np.array(em_corr_action).tolist()\n",
        "em_data['descrep_narrative'] = np.array(em_descrep_narrative).tolist()\n",
        "em_data['system_reason_desc'] = np.array(em_system_reason_desc).tolist()"
      ]
    },
    {
      "cell_type": "markdown",
      "metadata": {
        "id": "dZ2y4XcvdcUO"
      },
      "source": [
        "# SVC Classifier - one input column"
      ]
    },
    {
      "cell_type": "code",
      "execution_count": null,
      "metadata": {
        "id": "_0nRJzhg07in"
      },
      "outputs": [],
      "source": [
        "# testing and training on descrep_narrative data\n",
        "# np.array() and .tolist() are used to tranform the encoder's output data from a tensor to a list\n",
        "input_data = np.array(em_data['descrep_narrative']).tolist()\n",
        "\n",
        "\n",
        "# classifier for column C\n",
        "output_data = dataset[\"wuc\"].copy()\n",
        "\n",
        "X_train, X_test, y_train, y_test = sklearn.model_selection.train_test_split(input_data, output_data, test_size = 0.3, random_state=42)\n"
      ]
    },
    {
      "cell_type": "code",
      "execution_count": null,
      "metadata": {
        "colab": {
          "base_uri": "https://localhost:8080/"
        },
        "id": "ZMhWVDNz1Dra",
        "outputId": "a75b875a-2206-4929-a0b9-ee6bb53ff14d"
      },
      "outputs": [],
      "source": [
        "svc = sklearn.svm.SVC(random_state=42)\n",
        "\n",
        "# train SVC model\n",
        "svc.fit(X_train, y_train)\n",
        "\n",
        "# test accuracy on SVC model\n",
        "accuracy = svc.score(X_test, y_test)\n",
        "print(f\"{accuracy * 100}%\")"
      ]
    },
    {
      "cell_type": "markdown",
      "metadata": {
        "id": "7ve4Nn7jdhYd"
      },
      "source": [
        "# SVC Classifier - all input columns"
      ]
    },
    {
      "cell_type": "code",
      "execution_count": null,
      "metadata": {
        "id": "dYLREttjTgAx"
      },
      "outputs": [],
      "source": [
        "# include all input data vectors in one data frame\n",
        "em_df_exp = pd.DataFrame()\n",
        "\n",
        "count = 0\n",
        "\n",
        "import warnings\n",
        "warnings.filterwarnings(\"ignore\", message=\"DataFrame is highly fragmented.\")\n",
        "\n",
        "# expand data frame so each coefficient of input vector for each category has a column\n",
        "for col in em_data.columns:\n",
        "  data = {}\n",
        "  for item in em_data[col]:\n",
        "    count = 0\n",
        "    for element in item:\n",
        "      if count in data:\n",
        "        data[count].append(element)\n",
        "      else:\n",
        "        data[count] = [element]\n",
        "      count += 1\n",
        "\n",
        "  for key in data:\n",
        "    em_df_exp[f'{col}{key}'] = data[key].copy()"
      ]
    },
    {
      "cell_type": "code",
      "execution_count": null,
      "metadata": {
        "colab": {
          "base_uri": "https://localhost:8080/"
        },
        "id": "KD-SLx7pVuLJ",
        "outputId": "244b6f25-6300-4527-e8fa-108f478f6b01"
      },
      "outputs": [],
      "source": [
        "print(em_df_exp)"
      ]
    },
    {
      "cell_type": "code",
      "execution_count": null,
      "metadata": {
        "colab": {
          "base_uri": "https://localhost:8080/"
        },
        "id": "5spGQq9gV2WC",
        "outputId": "55399c5a-1c37-483d-9d8f-8044802c0195"
      },
      "outputs": [],
      "source": [
        "# predict column C\n",
        "output_data = dataset[\"wuc\"].copy()\n",
        "\n",
        "X_train, X_test, y_train, y_test = sklearn.model_selection.train_test_split(em_df_exp, output_data, test_size = 0.3, random_state=42)\n",
        "\n",
        "svc = sklearn.svm.SVC(random_state=42)\n",
        "\n",
        "# train SVC model\n",
        "svc.fit(X_train, y_train)\n",
        "\n",
        "# test accuracy on SVC model\n",
        "accuracy = svc.score(X_test, y_test)\n",
        "print(f\"{accuracy * 100}%\")\n",
        "y_preds = svc.predict(X_test)\n",
        "print(y_preds)\n",
        "print(y_test)\n",
        "\"\"\" Save Model\n",
        "model_filename = 'svc_model.joblib'\n",
        "joblib.dump(svc, model_filename)\n",
        "\"\"\"\n",
        "# no way 100% accuracy"
      ]
    },
    {
      "cell_type": "code",
      "execution_count": null,
      "metadata": {
        "colab": {
          "base_uri": "https://localhost:8080/"
        },
        "id": "7t3OLCC8ZK8m",
        "outputId": "8bbb9521-e0ca-463e-cb75-a27856f7fc5a"
      },
      "outputs": [],
      "source": [
        "# predict column X\n",
        "output_data = dataset[\"wc_code\"].copy()\n",
        "\n",
        "X_train, X_test, y_train, y_test = sklearn.model_selection.train_test_split(em_df_exp, output_data, test_size = 0.3, random_state=42)\n",
        "\n",
        "svc = sklearn.svm.SVC(random_state=35)\n",
        "\n",
        "# train SVC model\n",
        "svc.fit(X_train, y_train)\n",
        "\n",
        "# test accuracy on SVC model\n",
        "accuracy = svc.score(X_test, y_test)\n",
        "print(f\"{accuracy * 100}%\")\n",
        "\n",
        "# no way 100% accuracy\n",
        "\n",
        "y_preds = svc.predict(X_test)\n",
        "print(X_test)\n",
        "print(y_preds)\n",
        "print(y_test)\n",
        "\"\"\"\n",
        "single_row_to_predict = X_test.iloc[0:2, :]\n",
        "print(single_row_to_predict)\n",
        "single_row_pred = svc.predict(single_row_to_predict.values.reshape(2, -1))\n",
        "print(single_row_pred)\n",
        "print(\"y_test:\",y_test)\n",
        "\"\"\""
      ]
    }
  ],
  "metadata": {
    "colab": {
      "include_colab_link": true,
      "provenance": []
    },
    "kernelspec": {
      "display_name": "Python 3",
      "name": "python3"
    },
    "language_info": {
      "codemirror_mode": {
        "name": "ipython",
        "version": 3
      },
      "file_extension": ".py",
      "mimetype": "text/x-python",
      "name": "python",
      "nbconvert_exporter": "python",
      "pygments_lexer": "ipython3",
      "version": "3.11.4"
    }
  },
  "nbformat": 4,
  "nbformat_minor": 0
}
